{
 "cells": [
  {
   "cell_type": "code",
   "execution_count": 1,
   "metadata": {
    "collapsed": false
   },
   "outputs": [],
   "source": [
    "import numpy as np\n",
    "import tensorflow as tf\n",
    "import matplotlib.pyplot as plt\n",
    "import util"
   ]
  },
  {
   "cell_type": "code",
   "execution_count": 2,
   "metadata": {
    "collapsed": false
   },
   "outputs": [],
   "source": [
    "class AutoEncoder:\n",
    "    def __init__(self, input_size, latent_size, session, lamb, use_bias=True):\n",
    "        self.input_size = input_size\n",
    "        self.latent_size = latent_size\n",
    "        self.use_bias = use_bias\n",
    "        self.f = tf.nn.relu\n",
    "        self.session = session\n",
    "        self.lamb = lamb\n",
    "        \n",
    "        self.X = tf.placeholder(tf.float32, shape = (None, input_size), name = 'X')\n",
    "        self.W1 = tf.Variable(tf.random_normal(shape=(input_size, latent_size))* 2 / np.sqrt(latent_size))\n",
    "#        self.W1 = tf.Variable(np.zeros(input_size, latent_size).astype(np.float32))\n",
    "        self.Z = tf.placeholder(tf.float32, shape = (None, latent_size), name = 'Z')\n",
    "        self.W2 = tf.Variable(tf.random_normal(shape=(latent_size, input_size))* 2 / np.sqrt(input_size))\n",
    "        self.Y = tf.placeholder(tf.float32, shape = (None, input_size), name = 'Y')\n",
    "        \n",
    "        if use_bias:\n",
    "            self.b1 = tf.Variable(np.zeros(latent_size).astype(np.float32))\n",
    "            self.b2 = tf.Variable(np.zeros(input_size).astype(np.float32))\n",
    "            self.Z = self.f(   tf.matmul(self.X, self.W1) + self.b1   )\n",
    "            self.Y = tf.matmul(self.Z, self.W2) + self.b2\n",
    "        else:    \n",
    "            self.Z = self.f(   tf.matmul(self.X, self.W1)   )\n",
    "            self.Y = tf.matmul(self.Z, self.W2)\n",
    "        \n",
    "#        cost = np.mean(np.square(self.G - values_selected), axis = 0)\n",
    "#        cost = tf.reduce_sum(tf.square(self.X - self.Y)) + self.lamb*(tf.reduce_sum(tf.square(self.W1))+tf.reduce_sum(tf.square(self.W2))) \n",
    "        self.cost = tf.reduce_sum( \n",
    "        tf.nn.sigmoid_cross_entropy_with_logits(\n",
    "        targets=self.X, logits=self.Y   )\n",
    "        )\n",
    "        self.train_op = tf.train.AdamOptimizer(10e-3).minimize(self.cost)\n",
    "        # self.train_op = tf.train.AdagradOptimizer(10e-3).minimize(self.cost)\n",
    "        # self.train_op = tf.train.MomentumOptimizer(10e-4, momentum=0.9).minimize(self.cost)\n",
    "        # self.train_op = tf.train.GradientDescentOptimizer(10e-5).minimize(self.cost)\n",
    "        # self.train_op = tf.train.RMSPropOptimizer(learning_rate=0.001).minimize(self.cost)\n",
    "\n",
    "#        self.cost = cost\n",
    "        \n",
    "        init_op = tf.initialize_all_variables()\n",
    "        self.session.run(init_op)\n",
    "        \n",
    "        \n",
    "    def train(self, X):\n",
    "        self.session.run( self.train_op,  feed_dict={self.X : X } )\n",
    "\n",
    "    def encode(self, X):\n",
    "        X = np.atleast_2d(X).astype(np.float32)\n",
    "        if self.use_bias:\n",
    "            predict_Z = self.f(   tf.matmul(X, self.W1) + self.b1   )\n",
    "        else:    \n",
    "            predict_Z = self.f(   tf.matmul(X, self.W1)   )     \n",
    "        return self.session.run(predict_Z )\n",
    "    \n",
    "    def decode(self, Z):\n",
    "        Z = np.atleast_2d(Z).astype(np.float32)\n",
    "        if self.use_bias:\n",
    "            predict_Y = self.f(   tf.matmul(Z, self.W2) + self.b2   )\n",
    "        else:    \n",
    "            predict_Y = self.f(   tf.matmul(Z, self.W2)   )     \n",
    "        return self.session.run(predict_Y)\n",
    "    \n",
    "    def fit(self, X, epochs, batch_sz):\n",
    "        costs = []\n",
    "        n_batches = len(X) // batch_sz\n",
    "        print(\"n_batches:\", n_batches)\n",
    "        for i in range(epochs):\n",
    "            print(\"epoch:\", i)\n",
    "            np.random.shuffle(X)\n",
    "            for j in range(n_batches):\n",
    "                batch = X[j*batch_sz:(j+1)*batch_sz]\n",
    "                _, c, = self.session.run((self.train_op, self.cost), feed_dict={self.X: batch})\n",
    "                c /= batch_sz # just debugging\n",
    "                costs.append(c)\n",
    "                if j % 300 == 0:\n",
    "                    print(\"iter: %d, cost: %.3f\" % (j, c))\n",
    "        plt.plot(costs)\n",
    "        plt.show()"
   ]
  },
  {
   "cell_type": "code",
   "execution_count": 3,
   "metadata": {
    "collapsed": false
   },
   "outputs": [
    {
     "name": "stdout",
     "output_type": "stream",
     "text": [
      "Reading in and transforming data...\n"
     ]
    }
   ],
   "source": [
    "    X, Y = util.get_mnist()\n",
    "    input_size = X.shape[1]      #   X.shape = (42000, 784)\n",
    "    sess = tf.InteractiveSession()"
   ]
  },
  {
   "cell_type": "code",
   "execution_count": 27,
   "metadata": {
    "collapsed": false
   },
   "outputs": [
    {
     "name": "stdout",
     "output_type": "stream",
     "text": [
      "('n_batches:', 328)\n",
      "('epoch:', 0)\n",
      "iter: 0, cost: 613.635\n",
      "iter: 300, cost: 58.009\n",
      "('epoch:', 1)\n",
      "iter: 0, cost: 56.720\n",
      "iter: 300, cost: 54.817\n",
      "('epoch:', 2)\n",
      "iter: 0, cost: 55.190\n",
      "iter: 300, cost: 53.322\n",
      "('epoch:', 3)\n",
      "iter: 0, cost: 51.046\n",
      "iter: 300, cost: 52.874\n",
      "('epoch:', 4)\n",
      "iter: 0, cost: 52.479\n",
      "iter: 300, cost: 52.122\n",
      "('epoch:', 5)\n",
      "iter: 0, cost: 52.478\n",
      "iter: 300, cost: 50.968\n",
      "('epoch:', 6)\n",
      "iter: 0, cost: 53.063\n",
      "iter: 300, cost: 51.127\n",
      "('epoch:', 7)\n",
      "iter: 0, cost: 51.144\n",
      "iter: 300, cost: 52.144\n",
      "('epoch:', 8)\n",
      "iter: 0, cost: 52.051\n",
      "iter: 300, cost: 54.102\n",
      "('epoch:', 9)\n",
      "iter: 0, cost: 51.926\n",
      "iter: 300, cost: 51.976\n"
     ]
    },
    {
     "data": {
      "image/png": "[encoded data removed]",
      "text/plain": [
       "<matplotlib.figure.Figure at 0x7fa73526e390>"
      ]
     },
     "metadata": {},
     "output_type": "display_data"
    },
    {
     "data": {
      "image/png": "[encoded data removed]",
      "text/plain": [
       "<matplotlib.figure.Figure at 0x7fa73501b2d0>"
      ]
     },
     "metadata": {},
     "output_type": "display_data"
    }
   ],
   "source": [
    "    latent_size = input_size/3\n",
    "    lamb = 0.\n",
    "   \n",
    "    AE = AutoEncoder(input_size, latent_size, sess, lamb)\n",
    "    \n",
    "    AE.fit(X, epochs=10, batch_sz=128)\n",
    "    X0 = X[0].reshape(1,784)\n",
    "    Z0 = AE.encode(X0)\n",
    "    Y0 = AE.decode(Z0)\n",
    "    \n",
    "    im_in = X0.reshape(28, 28)\n",
    "    im_out = Y0.reshape(28, 28)\n",
    "    plt.subplot(1,2,1)\n",
    "    plt.imshow(im_in, cmap='gray')\n",
    "    plt.title(\"Original\")\n",
    "    plt.subplot(1,2,2)\n",
    "    plt.imshow(im_out, cmap='gray')\n",
    "    plt.title(\"Reconstruction\")\n",
    "    plt.show()\n"
   ]
  },
  {
   "cell_type": "code",
   "execution_count": null,
   "metadata": {
    "collapsed": true
   },
   "outputs": [],
   "source": []
  },
  {
   "cell_type": "code",
   "execution_count": null,
   "metadata": {
    "collapsed": true
   },
   "outputs": [],
   "source": []
  },
  {
   "cell_type": "code",
   "execution_count": null,
   "metadata": {
    "collapsed": true
   },
   "outputs": [],
   "source": []
  },
  {
   "cell_type": "code",
   "execution_count": null,
   "metadata": {
    "collapsed": true
   },
   "outputs": [],
   "source": []
  },
  {
   "cell_type": "code",
   "execution_count": null,
   "metadata": {
    "collapsed": true
   },
   "outputs": [],
   "source": []
  },
  {
   "cell_type": "markdown",
   "metadata": {},
   "source": [
    "## TEST"
   ]
  },
  {
   "cell_type": "markdown",
   "metadata": {},
   "source": [
    "### this version_01 doses not converge, the problem might be  not using 'mini-batch' in training."
   ]
  },
  {
   "cell_type": "code",
   "execution_count": 2,
   "metadata": {
    "collapsed": false
   },
   "outputs": [],
   "source": [
    "class AutoEncoder:\n",
    "    def __init__(self, input_size, latent_size, session, lamb, use_bias=True):\n",
    "        self.input_size = input_size\n",
    "        self.latent_size = latent_size\n",
    "        self.use_bias = use_bias\n",
    "        self.f = tf.nn.relu\n",
    "        self.session = session\n",
    "        self.lamb = lamb\n",
    "        \n",
    "        self.X = tf.placeholder(tf.float32, shape = (None, input_size), name = 'X')\n",
    "        self.W1 = tf.Variable(tf.random_normal(shape=(input_size, latent_size)))\n",
    "#        self.W1 = tf.Variable(np.zeros(input_size, latent_size).astype(np.float32))\n",
    "        self.Z = tf.placeholder(tf.float32, shape = (None, latent_size), name = 'Z')\n",
    "        self.W2 = tf.Variable(tf.random_normal(shape=(latent_size, input_size)))\n",
    "        self.Y = tf.placeholder(tf.float32, shape = (None, input_size), name = 'Y')\n",
    "        \n",
    "        if use_bias:\n",
    "            self.b1 = tf.Variable(np.zeros(latent_size).astype(np.float32))\n",
    "            self.b2 = tf.Variable(np.zeros(input_size).astype(np.float32))\n",
    "            self.Z = self.f(   tf.matmul(self.X, self.W1) + self.b1   )\n",
    "            self.Y = tf.matmul(self.Z, self.W2) + self.b2\n",
    "        else:    \n",
    "            self.Z = self.f(   tf.matmul(self.X, self.W1)   )\n",
    "            self.Y = tf.matmul(self.Z, self.W2)\n",
    "        \n",
    "#        cost = np.mean(np.square(self.G - values_selected), axis = 0)\n",
    "        cost = tf.reduce_mean(tf.square(self.X - self.Y)) + self.lamb*(tf.reduce_mean(tf.square(self.W1))+tf.reduce_mean(tf.square(self.W2))) \n",
    "        # self.train_op = tf.train.RMSPropOptimizer(0.00025, 0.99, 0.0, 1e-6).minimize(cost)\n",
    "        self.train_op = tf.train.AdamOptimizer(10e-3).minimize(cost)\n",
    "        # self.train_op = tf.train.AdagradOptimizer(10e-3).minimize(cost)\n",
    "        # self.train_op = tf.train.MomentumOptimizer(10e-4, momentum=0.9).minimize(cost)\n",
    "        # self.train_op = tf.train.GradientDescentOptimizer(10e-5).minimize(cost)\n",
    "\n",
    "        self.cost = cost\n",
    "        \n",
    "        init_op = tf.initialize_all_variables()\n",
    "        self.session.run(init_op)\n",
    "        \n",
    "        \n",
    "    def train(self, X):\n",
    "        self.session.run( self.train_op,  feed_dict={self.X : X } )\n",
    "\n",
    "    def encode(self, X):\n",
    "        X = np.atleast_2d(X).astype(np.float32)\n",
    "        if self.use_bias:\n",
    "            predict_Z = self.f(   tf.matmul(X, self.W1) + self.b1   )\n",
    "        else:    \n",
    "            predict_Z = self.f(   tf.matmul(X, self.W1)   )     \n",
    "        return self.session.run(predict_Z )\n",
    "    \n",
    "    def decode(self, Z):\n",
    "        Z = np.atleast_2d(Z).astype(np.float32)\n",
    "        if self.use_bias:\n",
    "            predict_Y = self.f(   tf.matmul(Z, self.W2) + self.b2   )\n",
    "        else:    \n",
    "            predict_Y = self.f(   tf.matmul(Z, self.W2)   )     \n",
    "        return self.session.run(predict_Y)"
   ]
  },
  {
   "cell_type": "code",
   "execution_count": 5,
   "metadata": {
    "collapsed": false
   },
   "outputs": [
    {
     "name": "stdout",
     "output_type": "stream",
     "text": [
      "Reading in and transforming data...\n"
     ]
    },
    {
     "data": {
      "image/png": "[encoded data removed]",
      "text/plain": [
       "<matplotlib.figure.Figure at 0x7f59aed3c8d0>"
      ]
     },
     "metadata": {},
     "output_type": "display_data"
    }
   ],
   "source": [
    "if __name__ == '__main__':\n",
    "    \n",
    "    X, Y = util.get_mnist()\n",
    "    input_size = X.shape[1]      #   784\n",
    "    latent_size = input_size/2   \n",
    "    lamb = 0.01\n",
    "    \n",
    "    sess = tf.InteractiveSession()\n",
    "    \n",
    "   \n",
    "    AE = AutoEncoder(input_size, latent_size, sess, lamb)\n",
    "    \n",
    "    \n",
    "\n",
    "    AE.train(X)\n",
    "    X0 = X[0].reshape(1,784)\n",
    "    Z0 = AE.encode(X0)\n",
    "    Y0 = AE.decode(Z0)\n",
    "    \n",
    "    im_in = X0.reshape(28, 28)\n",
    "    im_out = Y0.reshape(28, 28)\n",
    "    plt.subplot(1,2,1)\n",
    "    plt.imshow(im_in, cmap='gray')\n",
    "    plt.title(\"Original\")\n",
    "    plt.subplot(1,2,2)\n",
    "    plt.imshow(im_out, cmap='gray')\n",
    "    plt.title(\"Reconstruction\")\n",
    "    plt.show()\n"
   ]
  },
  {
   "cell_type": "code",
   "execution_count": null,
   "metadata": {
    "collapsed": true
   },
   "outputs": [],
   "source": []
  },
  {
   "cell_type": "code",
   "execution_count": null,
   "metadata": {
    "collapsed": true
   },
   "outputs": [],
   "source": []
  },
  {
   "cell_type": "code",
   "execution_count": null,
   "metadata": {
    "collapsed": true
   },
   "outputs": [],
   "source": []
  },
  {
   "cell_type": "code",
   "execution_count": null,
   "metadata": {
    "collapsed": true
   },
   "outputs": [],
   "source": []
  },
  {
   "cell_type": "code",
   "execution_count": null,
   "metadata": {
    "collapsed": true
   },
   "outputs": [],
   "source": []
  },
  {
   "cell_type": "markdown",
   "metadata": {},
   "source": [
    "### version_00_beta is not completed. this is originally intended\n",
    "###  to imitate the way in 'my_dqn_tf_breakout '"
   ]
  },
  {
   "cell_type": "code",
   "execution_count": null,
   "metadata": {
    "collapsed": true
   },
   "outputs": [],
   "source": [
    "class AutoEncoder:\n",
    "    def __init__(self, num_input, num_latent):\n",
    "        self.num_input = num_input\n",
    "        self.num_latent = num_latent\n",
    "        self.scope = scope\n",
    "        self.sess = session\n",
    "      \n",
    "        self.G = tf.placeholder(tf.float32, shape = (None,), name = 'G') \n",
    "        self.X = tf.placeholder(tf.float32, shape = (None, 4, IM_SIZE, IM_SIZE),\n",
    "                                    name = 'X' )\n",
    "#        self.X = X\n",
    "\n",
    "        self.X = tf.placeholdder(tf.float32, shape = (None, num_input), name = 'X')\n",
    "        self.W1 = tf.placeholdder(type = 'float', shape=(num_input, num_latent))\n",
    "        self.Z = tf.placeholdder(tf.float32, shape = (None, num_latent), name = 'Z')\n",
    "        self.W1 = tf.placeholdder(type = 'float', shape=(num_latent, num_input))\n",
    "        self.Y = tf.placeholdder(tf.float32, shape = (None, num_input), name = 'Y')\n",
    "    \n",
    "        Z = tf.contrib.layers.flatten(Z)\n",
    "        Z = tf.contrib.layers.fully_connected(Z, num_input, activation_fn=tf.nn.relu)\n",
    "        self.Y = tf.contrib.layers.fully_connected(Z, num_latent)\n",
    "\n",
    "        \n",
    "        \n",
    "        \n",
    "        \n",
    "        \n",
    "            values_selected  = tf.reduce_sum(\n",
    "              self.predict_op * tf.one_hot(self.action, K),\n",
    "              reduction_indices=[1]      )\n",
    "#            cost = np.mean(np.square(self.G - values_selected), axis = 0)\n",
    "            cost = tf.reduce_mean(tf.square(self.G - values_selected))        \n",
    "            self.train_op = tf.train.RMSPropOptimizer(0.00025, 0.99, 0.0, 1e-6).minimize(cost)\n",
    "            self.cost = cost\n",
    "    \n",
    "    \n",
    "    \n",
    "    \n",
    "    \n",
    "    \n",
    "    def train(self):\n",
    "        self.Z = tf.activation.relu(tf.matmul(self.X, self.W1))\n",
    "        self.Y = tf.matmul(self.Z, self.W2)\n",
    "        loss = (self.X - self.Y)**2\n",
    "        optimizer\n",
    "        mizimize(loss)\n",
    "    \n",
    "    def encode(self, X):\n",
    "        \n",
    "        predict_Z = tf.activation.relu(tf.matmul(X, self.W1))\n",
    "        \n",
    "        return predict_Z \n",
    "    \n",
    "    def generate(self, Z)\n",
    "        \n",
    "        predict_Y = tf.matmul(Z, self.W2)\n",
    "        \n",
    "        return predict_Y "
   ]
  },
  {
   "cell_type": "code",
   "execution_count": null,
   "metadata": {
    "collapsed": true
   },
   "outputs": [],
   "source": []
  },
  {
   "cell_type": "code",
   "execution_count": null,
   "metadata": {
    "collapsed": true
   },
   "outputs": [],
   "source": []
  },
  {
   "cell_type": "code",
   "execution_count": null,
   "metadata": {
    "collapsed": true
   },
   "outputs": [],
   "source": []
  },
  {
   "cell_type": "code",
   "execution_count": null,
   "metadata": {
    "collapsed": true
   },
   "outputs": [],
   "source": []
  },
  {
   "cell_type": "code",
   "execution_count": null,
   "metadata": {
    "collapsed": true
   },
   "outputs": [],
   "source": []
  },
  {
   "cell_type": "code",
   "execution_count": null,
   "metadata": {
    "collapsed": true
   },
   "outputs": [],
   "source": []
  },
  {
   "cell_type": "code",
   "execution_count": null,
   "metadata": {
    "collapsed": true
   },
   "outputs": [],
   "source": []
  },
  {
   "cell_type": "code",
   "execution_count": null,
   "metadata": {
    "collapsed": true
   },
   "outputs": [],
   "source": []
  },
  {
   "cell_type": "code",
   "execution_count": null,
   "metadata": {
    "collapsed": true
   },
   "outputs": [],
   "source": []
  },
  {
   "cell_type": "code",
   "execution_count": null,
   "metadata": {
    "collapsed": true
   },
   "outputs": [],
   "source": []
  },
  {
   "cell_type": "code",
   "execution_count": null,
   "metadata": {
    "collapsed": true
   },
   "outputs": [],
   "source": []
  },
  {
   "cell_type": "code",
   "execution_count": null,
   "metadata": {
    "collapsed": true
   },
   "outputs": [],
   "source": []
  },
  {
   "cell_type": "code",
   "execution_count": null,
   "metadata": {
    "collapsed": true
   },
   "outputs": [],
   "source": []
  },
  {
   "cell_type": "code",
   "execution_count": null,
   "metadata": {
    "collapsed": true
   },
   "outputs": [],
   "source": []
  },
  {
   "cell_type": "code",
   "execution_count": null,
   "metadata": {
    "collapsed": true
   },
   "outputs": [],
   "source": []
  },
  {
   "cell_type": "code",
   "execution_count": null,
   "metadata": {
    "collapsed": true
   },
   "outputs": [],
   "source": []
  },
  {
   "cell_type": "code",
   "execution_count": null,
   "metadata": {
    "collapsed": true
   },
   "outputs": [],
   "source": []
  },
  {
   "cell_type": "code",
   "execution_count": null,
   "metadata": {
    "collapsed": true
   },
   "outputs": [],
   "source": []
  },
  {
   "cell_type": "code",
   "execution_count": null,
   "metadata": {
    "collapsed": true
   },
   "outputs": [],
   "source": []
  },
  {
   "cell_type": "code",
   "execution_count": null,
   "metadata": {
    "collapsed": true
   },
   "outputs": [],
   "source": []
  },
  {
   "cell_type": "code",
   "execution_count": null,
   "metadata": {
    "collapsed": true
   },
   "outputs": [],
   "source": []
  },
  {
   "cell_type": "code",
   "execution_count": null,
   "metadata": {
    "collapsed": true
   },
   "outputs": [],
   "source": []
  },
  {
   "cell_type": "code",
   "execution_count": null,
   "metadata": {
    "collapsed": true
   },
   "outputs": [],
   "source": []
  },
  {
   "cell_type": "code",
   "execution_count": null,
   "metadata": {
    "collapsed": true
   },
   "outputs": [],
   "source": []
  },
  {
   "cell_type": "code",
   "execution_count": null,
   "metadata": {
    "collapsed": true
   },
   "outputs": [],
   "source": []
  },
  {
   "cell_type": "code",
   "execution_count": null,
   "metadata": {
    "collapsed": true
   },
   "outputs": [],
   "source": []
  },
  {
   "cell_type": "code",
   "execution_count": null,
   "metadata": {
    "collapsed": true
   },
   "outputs": [],
   "source": []
  },
  {
   "cell_type": "code",
   "execution_count": null,
   "metadata": {
    "collapsed": true
   },
   "outputs": [],
   "source": []
  },
  {
   "cell_type": "code",
   "execution_count": null,
   "metadata": {
    "collapsed": true
   },
   "outputs": [],
   "source": []
  },
  {
   "cell_type": "code",
   "execution_count": null,
   "metadata": {
    "collapsed": true
   },
   "outputs": [],
   "source": []
  },
  {
   "cell_type": "code",
   "execution_count": null,
   "metadata": {
    "collapsed": true
   },
   "outputs": [],
   "source": []
  },
  {
   "cell_type": "code",
   "execution_count": null,
   "metadata": {
    "collapsed": true
   },
   "outputs": [],
   "source": []
  },
  {
   "cell_type": "code",
   "execution_count": null,
   "metadata": {
    "collapsed": true
   },
   "outputs": [],
   "source": []
  },
  {
   "cell_type": "code",
   "execution_count": null,
   "metadata": {
    "collapsed": true
   },
   "outputs": [],
   "source": []
  },
  {
   "cell_type": "code",
   "execution_count": null,
   "metadata": {
    "collapsed": true
   },
   "outputs": [],
   "source": []
  },
  {
   "cell_type": "code",
   "execution_count": null,
   "metadata": {
    "collapsed": true
   },
   "outputs": [],
   "source": []
  }
 ],
 "metadata": {
  "kernelspec": {
   "display_name": "Python 2",
   "language": "python",
   "name": "python2"
  },
  "language_info": {
   "codemirror_mode": {
    "name": "ipython",
    "version": 2
   },
   "file_extension": ".py",
   "mimetype": "text/x-python",
   "name": "python",
   "nbconvert_exporter": "python",
   "pygments_lexer": "ipython2",
   "version": "2.7.12"
  }
 },
 "nbformat": 4,
 "nbformat_minor": 1
}
